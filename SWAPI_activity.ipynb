{
 "cells": [
  {
   "cell_type": "markdown",
   "id": "0cc6fff7",
   "metadata": {},
   "source": [
    "### Obtener en un Dataframe, todos los registros de los personajes StarWars (solo campos clave dese name hasta gender)."
   ]
  },
  {
   "cell_type": "code",
   "execution_count": 17,
   "id": "71971056",
   "metadata": {},
   "outputs": [],
   "source": [
    "# Importación de dependencias\n",
    "import pandas as pd\n",
    "import numpy as np\n",
    "import requests\n",
    "from matplotlib import pyplot as plt"
   ]
  },
  {
   "cell_type": "code",
   "execution_count": 2,
   "id": "574b7255",
   "metadata": {},
   "outputs": [],
   "source": [
    "# Inicialización de requests\n",
    "req_js = requests.get(\"https://swapi.dev/api/\").json()"
   ]
  },
  {
   "cell_type": "code",
   "execution_count": 3,
   "id": "0b6bc1ea",
   "metadata": {},
   "outputs": [
    {
     "name": "stdout",
     "output_type": "stream",
     "text": [
      "{'people': 'https://swapi.dev/api/people/', 'planets': 'https://swapi.dev/api/planets/', 'films': 'https://swapi.dev/api/films/', 'species': 'https://swapi.dev/api/species/', 'vehicles': 'https://swapi.dev/api/vehicles/', 'starships': 'https://swapi.dev/api/starships/'}\n"
     ]
    }
   ],
   "source": [
    "print(req_js)"
   ]
  },
  {
   "cell_type": "code",
   "execution_count": 4,
   "id": "b38a6761",
   "metadata": {},
   "outputs": [],
   "source": [
    "# Creación de diccionario base para posterior importación a dataframe\n",
    "dicc = {'name':[], 'height':[], 'mass':[], 'hair_color':[], 'skin_color':[], 'eye_color':[], 'birth_year':[], 'gender':[]}"
   ]
  },
  {
   "cell_type": "code",
   "execution_count": 5,
   "id": "d2702cf2",
   "metadata": {},
   "outputs": [
    {
     "name": "stdout",
     "output_type": "stream",
     "text": [
      "[1, 2, 3, 4, 5, 6, 7, 8, 9, 10, 11, 12, 13, 14, 15, 16, 18, 19, 20, 21, 22, 23, 24, 25, 26, 27, 28, 29, 30, 31, 32, 33, 34, 35, 36, 37, 38, 39, 40, 41, 42, 43, 44, 45, 46, 47, 48, 49, 50, 51, 52, 53, 54, 55, 56, 57, 58, 59, 60, 61, 62, 63, 64, 65, 66, 67, 68, 69, 70, 71, 72, 73, 74, 75, 76, 77, 78, 79, 80, 81, 82, 83]\n"
     ]
    }
   ],
   "source": [
    "# El registro people/17/ no existe en SWAPI\n",
    "persons = list(range(1,84))\n",
    "persons.remove(17)\n",
    "print(persons)"
   ]
  },
  {
   "cell_type": "code",
   "execution_count": 6,
   "id": "4feabaf3",
   "metadata": {},
   "outputs": [],
   "source": [
    "for i in persons:\n",
    "    persona = requests.get(f\"https://swapi.dev/api/people/{i}/\").json()\n",
    "    for key in dicc.keys():\n",
    "        dicc[key].append(persona[key])"
   ]
  },
  {
   "cell_type": "code",
   "execution_count": 7,
   "id": "28f831e3",
   "metadata": {},
   "outputs": [
    {
     "data": {
      "text/plain": [
       "82"
      ]
     },
     "execution_count": 7,
     "metadata": {},
     "output_type": "execute_result"
    }
   ],
   "source": [
    "# Comprobación de número de registros\n",
    "len(dicc['name'])"
   ]
  },
  {
   "cell_type": "code",
   "execution_count": 8,
   "id": "a76f4b41",
   "metadata": {},
   "outputs": [
    {
     "data": {
      "text/html": [
       "<div>\n",
       "<style scoped>\n",
       "    .dataframe tbody tr th:only-of-type {\n",
       "        vertical-align: middle;\n",
       "    }\n",
       "\n",
       "    .dataframe tbody tr th {\n",
       "        vertical-align: top;\n",
       "    }\n",
       "\n",
       "    .dataframe thead th {\n",
       "        text-align: right;\n",
       "    }\n",
       "</style>\n",
       "<table border=\"1\" class=\"dataframe\">\n",
       "  <thead>\n",
       "    <tr style=\"text-align: right;\">\n",
       "      <th></th>\n",
       "      <th>name</th>\n",
       "      <th>height</th>\n",
       "      <th>mass</th>\n",
       "      <th>hair_color</th>\n",
       "      <th>skin_color</th>\n",
       "      <th>eye_color</th>\n",
       "      <th>birth_year</th>\n",
       "      <th>gender</th>\n",
       "    </tr>\n",
       "  </thead>\n",
       "  <tbody>\n",
       "    <tr>\n",
       "      <th>0</th>\n",
       "      <td>Luke Skywalker</td>\n",
       "      <td>172</td>\n",
       "      <td>77</td>\n",
       "      <td>blond</td>\n",
       "      <td>fair</td>\n",
       "      <td>blue</td>\n",
       "      <td>19BBY</td>\n",
       "      <td>male</td>\n",
       "    </tr>\n",
       "    <tr>\n",
       "      <th>1</th>\n",
       "      <td>C-3PO</td>\n",
       "      <td>167</td>\n",
       "      <td>75</td>\n",
       "      <td>n/a</td>\n",
       "      <td>gold</td>\n",
       "      <td>yellow</td>\n",
       "      <td>112BBY</td>\n",
       "      <td>n/a</td>\n",
       "    </tr>\n",
       "    <tr>\n",
       "      <th>2</th>\n",
       "      <td>R2-D2</td>\n",
       "      <td>96</td>\n",
       "      <td>32</td>\n",
       "      <td>n/a</td>\n",
       "      <td>white, blue</td>\n",
       "      <td>red</td>\n",
       "      <td>33BBY</td>\n",
       "      <td>n/a</td>\n",
       "    </tr>\n",
       "    <tr>\n",
       "      <th>3</th>\n",
       "      <td>Darth Vader</td>\n",
       "      <td>202</td>\n",
       "      <td>136</td>\n",
       "      <td>none</td>\n",
       "      <td>white</td>\n",
       "      <td>yellow</td>\n",
       "      <td>41.9BBY</td>\n",
       "      <td>male</td>\n",
       "    </tr>\n",
       "    <tr>\n",
       "      <th>4</th>\n",
       "      <td>Leia Organa</td>\n",
       "      <td>150</td>\n",
       "      <td>49</td>\n",
       "      <td>brown</td>\n",
       "      <td>light</td>\n",
       "      <td>brown</td>\n",
       "      <td>19BBY</td>\n",
       "      <td>female</td>\n",
       "    </tr>\n",
       "    <tr>\n",
       "      <th>...</th>\n",
       "      <td>...</td>\n",
       "      <td>...</td>\n",
       "      <td>...</td>\n",
       "      <td>...</td>\n",
       "      <td>...</td>\n",
       "      <td>...</td>\n",
       "      <td>...</td>\n",
       "      <td>...</td>\n",
       "    </tr>\n",
       "    <tr>\n",
       "      <th>77</th>\n",
       "      <td>Grievous</td>\n",
       "      <td>216</td>\n",
       "      <td>159</td>\n",
       "      <td>none</td>\n",
       "      <td>brown, white</td>\n",
       "      <td>green, yellow</td>\n",
       "      <td>unknown</td>\n",
       "      <td>male</td>\n",
       "    </tr>\n",
       "    <tr>\n",
       "      <th>78</th>\n",
       "      <td>Tarfful</td>\n",
       "      <td>234</td>\n",
       "      <td>136</td>\n",
       "      <td>brown</td>\n",
       "      <td>brown</td>\n",
       "      <td>blue</td>\n",
       "      <td>unknown</td>\n",
       "      <td>male</td>\n",
       "    </tr>\n",
       "    <tr>\n",
       "      <th>79</th>\n",
       "      <td>Raymus Antilles</td>\n",
       "      <td>188</td>\n",
       "      <td>79</td>\n",
       "      <td>brown</td>\n",
       "      <td>light</td>\n",
       "      <td>brown</td>\n",
       "      <td>unknown</td>\n",
       "      <td>male</td>\n",
       "    </tr>\n",
       "    <tr>\n",
       "      <th>80</th>\n",
       "      <td>Sly Moore</td>\n",
       "      <td>178</td>\n",
       "      <td>48</td>\n",
       "      <td>none</td>\n",
       "      <td>pale</td>\n",
       "      <td>white</td>\n",
       "      <td>unknown</td>\n",
       "      <td>female</td>\n",
       "    </tr>\n",
       "    <tr>\n",
       "      <th>81</th>\n",
       "      <td>Tion Medon</td>\n",
       "      <td>206</td>\n",
       "      <td>80</td>\n",
       "      <td>none</td>\n",
       "      <td>grey</td>\n",
       "      <td>black</td>\n",
       "      <td>unknown</td>\n",
       "      <td>male</td>\n",
       "    </tr>\n",
       "  </tbody>\n",
       "</table>\n",
       "<p>82 rows × 8 columns</p>\n",
       "</div>"
      ],
      "text/plain": [
       "               name height mass hair_color    skin_color      eye_color  \\\n",
       "0    Luke Skywalker    172   77      blond          fair           blue   \n",
       "1             C-3PO    167   75        n/a          gold         yellow   \n",
       "2             R2-D2     96   32        n/a   white, blue            red   \n",
       "3       Darth Vader    202  136       none         white         yellow   \n",
       "4       Leia Organa    150   49      brown         light          brown   \n",
       "..              ...    ...  ...        ...           ...            ...   \n",
       "77         Grievous    216  159       none  brown, white  green, yellow   \n",
       "78          Tarfful    234  136      brown         brown           blue   \n",
       "79  Raymus Antilles    188   79      brown         light          brown   \n",
       "80        Sly Moore    178   48       none          pale          white   \n",
       "81       Tion Medon    206   80       none          grey          black   \n",
       "\n",
       "   birth_year  gender  \n",
       "0       19BBY    male  \n",
       "1      112BBY     n/a  \n",
       "2       33BBY     n/a  \n",
       "3     41.9BBY    male  \n",
       "4       19BBY  female  \n",
       "..        ...     ...  \n",
       "77    unknown    male  \n",
       "78    unknown    male  \n",
       "79    unknown    male  \n",
       "80    unknown  female  \n",
       "81    unknown    male  \n",
       "\n",
       "[82 rows x 8 columns]"
      ]
     },
     "execution_count": 8,
     "metadata": {},
     "output_type": "execute_result"
    }
   ],
   "source": [
    "# Creación de dataframe\n",
    "data = pd.DataFrame.from_dict(dicc)\n",
    "data"
   ]
  },
  {
   "cell_type": "markdown",
   "id": "1a804c20",
   "metadata": {},
   "source": [
    "### Muestra el peso medio por género ('n/a') se contabilizará como un género más."
   ]
  },
  {
   "cell_type": "code",
   "execution_count": 9,
   "id": "0920c787",
   "metadata": {},
   "outputs": [
    {
     "data": {
      "text/plain": [
       "array(['77', '75', '32', '136', '49', '120', '84', 'unknown', '112', '80',\n",
       "       '74', '1,358', '110', '17', '78.2', '140', '113', '79', '83', '20',\n",
       "       '68', '89', '90', '45', '66', '82', '40', '55', '15', '65', '87',\n",
       "       '50', '85', '56.2', '102', '88', '48', '57', '159'], dtype=object)"
      ]
     },
     "execution_count": 9,
     "metadata": {},
     "output_type": "execute_result"
    }
   ],
   "source": [
    "# Verificación de valores presentes en columna 'mass'\n",
    "data['mass'].unique()"
   ]
  },
  {
   "cell_type": "code",
   "execution_count": 10,
   "id": "0db7d9c9",
   "metadata": {},
   "outputs": [],
   "source": [
    "# Eliminación de coma para garantizar valores numéricos en la columna 'mass'\n",
    "data['mass'] = data['mass'].apply(lambda x: x.replace(',',''))"
   ]
  },
  {
   "cell_type": "code",
   "execution_count": 11,
   "id": "803f8596",
   "metadata": {},
   "outputs": [
    {
     "data": {
      "text/plain": [
       "array(['77', '75', '32', '136', '49', '120', '84', 'unknown', '112', '80',\n",
       "       '74', '1358', '110', '17', '78.2', '140', '113', '79', '83', '20',\n",
       "       '68', '89', '90', '45', '66', '82', '40', '55', '15', '65', '87',\n",
       "       '50', '85', '56.2', '102', '88', '48', '57', '159'], dtype=object)"
      ]
     },
     "execution_count": 11,
     "metadata": {},
     "output_type": "execute_result"
    }
   ],
   "source": [
    "# Comprobación de valores numéricos\n",
    "data['mass'].unique()"
   ]
  },
  {
   "cell_type": "code",
   "execution_count": 12,
   "id": "c512210d",
   "metadata": {},
   "outputs": [],
   "source": [
    "# Creación de dataframe donde se descartan valores 'unknown' en la columna 'mass'\n",
    "data1 = data[data['mass'] != 'unknown'].copy()"
   ]
  },
  {
   "cell_type": "code",
   "execution_count": 13,
   "id": "9d00bf50",
   "metadata": {},
   "outputs": [
    {
     "data": {
      "text/plain": [
       "array(['77', '75', '32', '136', '49', '120', '84', '112', '80', '74',\n",
       "       '1358', '110', '17', '78.2', '140', '113', '79', '83', '20', '68',\n",
       "       '89', '90', '45', '66', '82', '40', '55', '15', '65', '87', '50',\n",
       "       '85', '56.2', '102', '88', '48', '57', '159'], dtype=object)"
      ]
     },
     "execution_count": 13,
     "metadata": {},
     "output_type": "execute_result"
    }
   ],
   "source": [
    "# Comprobación de valores numéricos\n",
    "data1.mass.unique()"
   ]
  },
  {
   "cell_type": "code",
   "execution_count": 14,
   "id": "10ac5ffb",
   "metadata": {},
   "outputs": [],
   "source": [
    "# Transformación a valores float\n",
    "data1.mass = data1.mass.apply(lambda x: float(x))"
   ]
  },
  {
   "cell_type": "code",
   "execution_count": 15,
   "id": "3210b26b",
   "metadata": {},
   "outputs": [
    {
     "data": {
      "text/plain": [
       "gender\n",
       "female             54.020000\n",
       "hermaphrodite    1358.000000\n",
       "male               81.004545\n",
       "n/a                46.333333\n",
       "none              140.000000\n",
       "Name: mass, dtype: float64"
      ]
     },
     "execution_count": 15,
     "metadata": {},
     "output_type": "execute_result"
    }
   ],
   "source": [
    "data1.groupby('gender')['mass'].mean()"
   ]
  },
  {
   "cell_type": "markdown",
   "id": "41e4b0c9",
   "metadata": {},
   "source": [
    "### Muestra gráficamente de la mejor forma posible si existe relación entre el peso y la altura de los personajes"
   ]
  },
  {
   "cell_type": "code",
   "execution_count": 16,
   "id": "da4d5c47",
   "metadata": {},
   "outputs": [
    {
     "data": {
      "text/plain": [
       "array(['172', '167', '96', '202', '150', '178', '165', '97', '183', '182',\n",
       "       '188', '228', '180', '173', '175', '170', '66', '200', '190',\n",
       "       '177', '88', '160', '193', '191', '185', '196', '224', '112', '79',\n",
       "       '94', '163', '198', '184', '166', '168', '229', '216', '234',\n",
       "       '206'], dtype=object)"
      ]
     },
     "execution_count": 16,
     "metadata": {},
     "output_type": "execute_result"
    }
   ],
   "source": [
    "# Comprobación de valores numéricos en height\n",
    "data1['height'].unique()"
   ]
  },
  {
   "cell_type": "code",
   "execution_count": 25,
   "id": "c73e0ffc",
   "metadata": {},
   "outputs": [],
   "source": [
    "# Asignación de datatype como integer para manipulación en matplotlib\n",
    "data1['height'] = data1['height'].astype('int')"
   ]
  },
  {
   "cell_type": "code",
   "execution_count": 27,
   "id": "d4584fa9",
   "metadata": {},
   "outputs": [
    {
     "data": {
      "image/png": "[encoded data removed]",
      "text/plain": [
       "<Figure size 640x480 with 1 Axes>"
      ]
     },
     "metadata": {},
     "output_type": "display_data"
    }
   ],
   "source": [
    "plt.scatter(data1.mass, data1.height)\n",
    "plt.xlabel('Peso (lbs)')\n",
    "plt.ylabel('Altura (inch)')\n",
    "plt.title('Relación entre peso y altura de los personajes')\n",
    "plt.show()"
   ]
  },
  {
   "cell_type": "markdown",
   "id": "68d966d6",
   "metadata": {},
   "source": [
    "Observamos que la mayoría de los personajes pesan menos de 200 libras (90.7 kg), pudiendo llegar a medir más de 225 pulgadas de alto (5.7 metros). Hay un outlier que pesa cerca ded 1,400 libras (635 kg)."
   ]
  },
  {
   "cell_type": "markdown",
   "id": "d239e5b5",
   "metadata": {},
   "source": [
    "### Muestra gráficamente de la mejor forma posible el valor promedio de la altura en función del color de ojos (puedes filtrar todos aquellos personajes cuyo color de ojos no sea > 1)"
   ]
  },
  {
   "cell_type": "code",
   "execution_count": 28,
   "id": "98e1bcc2",
   "metadata": {},
   "outputs": [
    {
     "data": {
      "text/plain": [
       "array(['blue', 'yellow', 'red', 'brown', 'blue-gray', 'black', 'orange',\n",
       "       'hazel', 'pink', 'unknown', 'red, blue', 'gold', 'green, yellow',\n",
       "       'white'], dtype=object)"
      ]
     },
     "execution_count": 28,
     "metadata": {},
     "output_type": "execute_result"
    }
   ],
   "source": [
    "# Visualización de color de ojos disponibles\n",
    "data['eye_color'].unique()"
   ]
  },
  {
   "cell_type": "code",
   "execution_count": 29,
   "id": "d3e033ad",
   "metadata": {},
   "outputs": [],
   "source": [
    "# Creación de dataframe sin datos 'unknown' en columna 'eye_color'\n",
    "data2 = data[data['eye_color'] != 'unknown'].copy()"
   ]
  },
  {
   "cell_type": "code",
   "execution_count": 43,
   "id": "205ee6c0",
   "metadata": {},
   "outputs": [
    {
     "data": {
      "text/plain": [
       "array(['blue', 'yellow', 'red', 'brown', 'blue-gray', 'black', 'orange',\n",
       "       'hazel', 'pink', 'red, blue', 'gold', 'green, yellow', 'white'],\n",
       "      dtype=object)"
      ]
     },
     "execution_count": 43,
     "metadata": {},
     "output_type": "execute_result"
    }
   ],
   "source": [
    "data2.eye_color.unique()"
   ]
  },
  {
   "cell_type": "code",
   "execution_count": 34,
   "id": "a1abbc85",
   "metadata": {},
   "outputs": [
    {
     "data": {
      "text/html": [
       "<div>\n",
       "<style scoped>\n",
       "    .dataframe tbody tr th:only-of-type {\n",
       "        vertical-align: middle;\n",
       "    }\n",
       "\n",
       "    .dataframe tbody tr th {\n",
       "        vertical-align: top;\n",
       "    }\n",
       "\n",
       "    .dataframe thead th {\n",
       "        text-align: right;\n",
       "    }\n",
       "</style>\n",
       "<table border=\"1\" class=\"dataframe\">\n",
       "  <thead>\n",
       "    <tr style=\"text-align: right;\">\n",
       "      <th></th>\n",
       "      <th>name</th>\n",
       "      <th>height</th>\n",
       "      <th>mass</th>\n",
       "      <th>hair_color</th>\n",
       "      <th>skin_color</th>\n",
       "      <th>eye_color</th>\n",
       "      <th>birth_year</th>\n",
       "      <th>gender</th>\n",
       "    </tr>\n",
       "  </thead>\n",
       "  <tbody>\n",
       "    <tr>\n",
       "      <th>27</th>\n",
       "      <td>Arvel Crynyd</td>\n",
       "      <td>unknown</td>\n",
       "      <td>unknown</td>\n",
       "      <td>brown</td>\n",
       "      <td>fair</td>\n",
       "      <td>brown</td>\n",
       "      <td>unknown</td>\n",
       "      <td>male</td>\n",
       "    </tr>\n",
       "  </tbody>\n",
       "</table>\n",
       "</div>"
      ],
      "text/plain": [
       "            name   height     mass hair_color skin_color eye_color birth_year  \\\n",
       "27  Arvel Crynyd  unknown  unknown      brown       fair     brown    unknown   \n",
       "\n",
       "   gender  \n",
       "27   male  "
      ]
     },
     "execution_count": 34,
     "metadata": {},
     "output_type": "execute_result"
    }
   ],
   "source": [
    "# Localización del valor 'unknown' en la columna 'height'\n",
    "data2[data2.height == 'unknown']"
   ]
  },
  {
   "cell_type": "code",
   "execution_count": 38,
   "id": "75053e35",
   "metadata": {},
   "outputs": [],
   "source": [
    "# Eliminación de valor 'unknown'\n",
    "data2.drop(data2[data2['height'] == 'unknown'].index, inplace=True)"
   ]
  },
  {
   "cell_type": "code",
   "execution_count": 39,
   "id": "38f86a7b",
   "metadata": {},
   "outputs": [
    {
     "data": {
      "text/html": [
       "<div>\n",
       "<style scoped>\n",
       "    .dataframe tbody tr th:only-of-type {\n",
       "        vertical-align: middle;\n",
       "    }\n",
       "\n",
       "    .dataframe tbody tr th {\n",
       "        vertical-align: top;\n",
       "    }\n",
       "\n",
       "    .dataframe thead th {\n",
       "        text-align: right;\n",
       "    }\n",
       "</style>\n",
       "<table border=\"1\" class=\"dataframe\">\n",
       "  <thead>\n",
       "    <tr style=\"text-align: right;\">\n",
       "      <th></th>\n",
       "      <th>name</th>\n",
       "      <th>height</th>\n",
       "      <th>mass</th>\n",
       "      <th>hair_color</th>\n",
       "      <th>skin_color</th>\n",
       "      <th>eye_color</th>\n",
       "      <th>birth_year</th>\n",
       "      <th>gender</th>\n",
       "    </tr>\n",
       "  </thead>\n",
       "  <tbody>\n",
       "  </tbody>\n",
       "</table>\n",
       "</div>"
      ],
      "text/plain": [
       "Empty DataFrame\n",
       "Columns: [name, height, mass, hair_color, skin_color, eye_color, birth_year, gender]\n",
       "Index: []"
      ]
     },
     "execution_count": 39,
     "metadata": {},
     "output_type": "execute_result"
    }
   ],
   "source": [
    "# Comprobación\n",
    "data2[data2.height == 'unknown']"
   ]
  },
  {
   "cell_type": "code",
   "execution_count": 41,
   "id": "5f79b9bd",
   "metadata": {},
   "outputs": [],
   "source": [
    "# Cambio de datatype de columna 'height'\n",
    "data2['height'] = data2['height'].astype('int')"
   ]
  },
  {
   "cell_type": "code",
   "execution_count": 80,
   "id": "49434575",
   "metadata": {},
   "outputs": [
    {
     "data": {
      "image/png": "[encoded data removed]",
      "text/plain": [
       "<Figure size 2000x1200 with 14 Axes>"
      ]
     },
     "metadata": {},
     "output_type": "display_data"
    }
   ],
   "source": [
    "# Creación de gráficas boxplot con ayuda de subplots, axes.flatten() y enumerate\n",
    "\n",
    "eye_colors = list(data2.eye_color.unique())\n",
    "\n",
    "fig, axes = plt.subplots(2,7, figsize=(20,12))\n",
    "\n",
    "axes = axes.flatten()\n",
    "\n",
    "for i, eye_color in enumerate(eye_colors):\n",
    "    ax = axes[i]\n",
    "    box = data2[data2['eye_color'] == eye_color]['height']\n",
    "    if box.count() == 1:\n",
    "        pass\n",
    "    else:\n",
    "          ax.boxplot(box, vert=True)\n",
    "    ax.set_title(eye_color)"
   ]
  },
  {
   "cell_type": "markdown",
   "id": "5dd9d7b1",
   "metadata": {},
   "source": [
    "Se omitieron gráficas sin valores mayores a 1"
   ]
  },
  {
   "cell_type": "markdown",
   "id": "04825a8b",
   "metadata": {},
   "source": [
    "_Erick Lara_"
   ]
  },
  {
   "cell_type": "code",
   "execution_count": null,
   "id": "f1595201",
   "metadata": {},
   "outputs": [],
   "source": []
  }
 ],
 "metadata": {
  "kernelspec": {
   "display_name": "Python 3 (ipykernel)",
   "language": "python",
   "name": "python3"
  },
  "language_info": {
   "codemirror_mode": {
    "name": "ipython",
    "version": 3
   },
   "file_extension": ".py",
   "mimetype": "text/x-python",
   "name": "python",
   "nbconvert_exporter": "python",
   "pygments_lexer": "ipython3",
   "version": "3.10.9"
  }
 },
 "nbformat": 4,
 "nbformat_minor": 5
}
